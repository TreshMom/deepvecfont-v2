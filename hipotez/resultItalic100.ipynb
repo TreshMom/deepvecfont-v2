{
 "cells": [
  {
   "cell_type": "code",
   "execution_count": 27,
   "metadata": {},
   "outputs": [
    {
     "data": {
      "image/svg+xml": [
       "<svg xmlns=\"http://www.w3.org/2000/svg\" xmlns:xlink=\"http://www.w3.org/1999/xlink\" width=\"1050px\" height=\"1050px\" style=\"-ms-transform: rotate(360deg); -webkit-transform: rotate(360deg); transform: rotate(360deg);\" preserveAspectRatio=\"xMidYMid meet\" viewBox=\"0 0 24 24\"><path d=\"M 8.4375 6.328125 L 10.078125 6.328125 L 9.140625 13.359375 L 16.40625 13.359375 L 17.34375 6.328125 L 18.984375 6.328125 L 16.640625 22.734375 L 14.765625 22.734375 C 15.0 22.734375 15.46875 15.0 15.46875 15.0 C 12.1875 15.0 10.78125 15.0 8.4375 15.0 C 7.96875 17.109375 7.734375 22.734375 7.03125 22.734375 C 6.5625 22.734375 5.625 22.734375 5.390625 22.734375 L 8.4375 6.328125\" fill=\"currentColor\"/></svg>"
      ],
      "text/plain": [
       "<IPython.core.display.SVG object>"
      ]
     },
     "metadata": {},
     "output_type": "display_data"
    }
   ],
   "source": [
    "from IPython.display import SVG, display\n",
    "\n",
    "svg_code = \"\"\"\n",
    "\n",
    "<svg xmlns=\"http://www.w3.org/2000/svg\" xmlns:xlink=\"http://www.w3.org/1999/xlink\" width=\"1050px\" height=\"1050px\"  style=\"-ms-transform: rotate(360deg); -webkit-transform: rotate(360deg); transform: rotate(360deg);\" preserveAspectRatio=\"xMidYMid meet\" viewBox=\"0 0 24 24\"><path d=\"M 8.4375 6.328125 L 10.078125 6.328125 L 9.140625 13.359375 L 16.40625 13.359375 L 17.34375 6.328125 L 18.984375 6.328125 L 16.640625 22.734375 L 14.765625 22.734375 C 15.0 22.734375 15.46875 15.0 15.46875 15.0 C 12.1875 15.0 10.78125 15.0 8.4375 15.0 C 7.96875 17.109375 7.734375 22.734375 7.03125 22.734375 C 6.5625 22.734375 5.625 22.734375 5.390625 22.734375 L 8.4375 6.328125\" fill=\"currentColor\"/></svg>\n",
    "\n",
    "\"\"\"\n",
    "\n",
    "display(SVG(svg_code))"
   ]
  },
  {
   "cell_type": "code",
   "execution_count": 29,
   "metadata": {},
   "outputs": [
    {
     "data": {
      "image/svg+xml": [
       "<svg xmlns=\"http://www.w3.org/2000/svg\" xmlns:xlink=\"http://www.w3.org/1999/xlink\" width=\"1050px\" height=\"1050px\" style=\"-ms-transform: rotate(360deg); -webkit-transform: rotate(360deg); transform: rotate(360deg);\" preserveAspectRatio=\"xMidYMid meet\" viewBox=\"0 0 24 24\"><path d=\"M 17.578125 6.328125 L 19.453125 6.328125 L 15.703125 22.734375 L 13.828125 22.734375 L 15.46875 15.234375 L 9.140625 15.234375 L 7.5 22.734375 L 5.390625 22.734375 L 9.375 6.328125 L 11.25 6.328125 L 9.609375 13.359375 L 15.9375 13.359375 L 17.578125 6.328125\" fill=\"currentColor\"/></svg>"
      ],
      "text/plain": [
       "<IPython.core.display.SVG object>"
      ]
     },
     "metadata": {},
     "output_type": "display_data"
    }
   ],
   "source": [
    "from IPython.display import SVG, display\n",
    "\n",
    "svg_code = \"\"\"\n",
    "\n",
    "<svg xmlns=\"http://www.w3.org/2000/svg\" xmlns:xlink=\"http://www.w3.org/1999/xlink\" width=\"1050px\" height=\"1050px\" style=\"-ms-transform: rotate(360deg); -webkit-transform: rotate(360deg); transform: rotate(360deg);\" preserveAspectRatio=\"xMidYMid meet\" viewBox=\"0 0 24 24\"><path d=\"M 13.359375 5.859375 L 14.53125 5.859375 L 18.984375 22.734375 L 18.046875 22.734375 L 18.046875 22.734375 L 17.8125 18.046875 L 5.859375 18.046875 L 3.515625 22.734375 C 3.28125 22.734375 2.578125 22.734375 2.578125 22.734375 C 2.578125 18.28125 7.5 5.859375 11.71875 5.859375 C 11.953125 5.859375 12.421875 5.859375 13.359375 5.859375 M 13.359375 6.328125 L 12.421875 6.328125 L 5.859375 16.875 L 17.8125 16.875 L 13.359375 6.328125\" fill=\"currentColor\"/></svg>\n",
    "\"\"\"\n",
    "\n",
    "display(SVG(svg_code))"
   ]
  },
  {
   "cell_type": "markdown",
   "metadata": {},
   "source": [
    "<?xml version=\"1.0\" standalone=\"no\"?>\n",
    "<!DOCTYPE svg PUBLIC \"-//W3C//DTD SVG 1.1//EN\" \"http://www.w3.org/Graphics/SVG/1.1/DTD/svg11.dtd\" >\n",
    "<svg xmlns=\"http://www.w3.org/2000/svg\" xmlns:xlink=\"http://www.w3.org/1999/xlink\" version=\"1.1\" viewBox=\"-26 0 626 1000\">\n",
    "   <path fill=\"none\" stroke=\"currentColor\"\n",
    "d=\"M349 120h117l45 675l-1 5h-78l-10 -178h-261l-95 178h-82l1 -5zM394 185l-195 365h218l-21 -365h-2z\" />\n",
    "</svg>\n"
   ]
  },
  {
   "cell_type": "markdown",
   "metadata": {},
   "source": [
    "<svg xmlns=\"http://www.w3.org/2000/svg\" viewBox=\"0 0 1000 1000\">\n",
    "\t<path fill=\"#000000\" d=\"M349 -680L-15 -5L-16 0H66L161 -178H422L432 0H510L511 -5L466 -680ZM394 -615H396L417 -250H199Z\"/>\n",
    "</svg>"
   ]
  }
 ],
 "metadata": {
  "kernelspec": {
   "display_name": "base",
   "language": "python",
   "name": "python3"
  },
  "language_info": {
   "codemirror_mode": {
    "name": "ipython",
    "version": 3
   },
   "file_extension": ".py",
   "mimetype": "text/x-python",
   "name": "python",
   "nbconvert_exporter": "python",
   "pygments_lexer": "ipython3",
   "version": "3.9.6"
  }
 },
 "nbformat": 4,
 "nbformat_minor": 2
}
