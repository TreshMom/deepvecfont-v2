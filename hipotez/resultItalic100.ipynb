{
 "cells": [
  {
   "cell_type": "code",
   "execution_count": 1,
   "metadata": {},
   "outputs": [
    {
     "data": {
      "image/svg+xml": [
       "<svg xmlns=\"http://www.w3.org/2000/svg\" xmlns:xlink=\"http://www.w3.org/1999/xlink\" width=\"850px\" height=\"850px\" style=\"-ms-transform: rotate(360deg); -webkit-transform: rotate(360deg); transform: rotate(360deg);\" preserveAspectRatio=\"xMidYMid meet\" viewBox=\"0 0 24 24\"><path d=\"M 13.125 6.328125 L 15.9375 6.328125 L 17.109375 22.5 L 17.109375 22.734375 L 15.234375 22.734375 L 15.0 18.28125 L 8.671875 18.28125 L 6.328125 22.734375 L 4.453125 22.734375 L 4.453125 22.5 L 13.125 6.328125 M 14.296875 7.96875 L 9.609375 16.640625 L 14.765625 16.640625 L 14.296875 7.96875 L 14.296875 7.96875\" stroke=\"black\" fill=\"transparent\"/></svg>"
      ],
      "text/plain": [
       "<IPython.core.display.SVG object>"
      ]
     },
     "metadata": {},
     "output_type": "display_data"
    }
   ],
   "source": [
    "from IPython.display import SVG, display\n",
    "\n",
    "svg_code = \"\"\"\n",
    "\n",
    "<svg xmlns=\"http://www.w3.org/2000/svg\" xmlns:xlink=\"http://www.w3.org/1999/xlink\" width=\"850px\" height=\"850px\" style=\"-ms-transform: rotate(360deg); -webkit-transform: rotate(360deg); transform: rotate(360deg);\" preserveAspectRatio=\"xMidYMid meet\" viewBox=\"0 0 24 24\"><path d=\"M 13.125 6.328125 L 15.9375 6.328125 L 17.109375 22.5 L 17.109375 22.734375 L 15.234375 22.734375 L 15.0 18.28125 L 8.671875 18.28125 L 6.328125 22.734375 L 4.453125 22.734375 L 4.453125 22.5 L 13.125 6.328125 M 14.296875 7.96875 L 9.609375 16.640625 L 14.765625 16.640625 L 14.296875 7.96875 L 14.296875 7.96875\" stroke=\"black\" fill=\"transparent\"/></svg>\n",
    "\"\"\"\n",
    "\n",
    "display(SVG(svg_code))"
   ]
  },
  {
   "cell_type": "code",
   "execution_count": 3,
   "metadata": {},
   "outputs": [
    {
     "data": {
      "image/svg+xml": [
       "<svg xmlns=\"http://www.w3.org/2000/svg\" xmlns:xlink=\"http://www.w3.org/1999/xlink\" width=\"1050px\" height=\"1050px\" style=\"-ms-transform: rotate(360deg); -webkit-transform: rotate(360deg); transform: rotate(360deg);\" preserveAspectRatio=\"xMidYMid meet\" viewBox=\"0 0 24 24\"><path d=\"M 13.125 6.328125 L 15.703125 6.328125 L 17.8125 22.734375 L 15.703125 22.734375 L 15.234375 17.8125 L 15.0 17.8125 L 8.671875 17.8125 C 7.96875 20.390625 6.09375 22.734375 5.859375 22.734375 C 5.15625 22.734375 4.453125 22.734375 3.984375 22.734375 L 13.125 6.328125 M 14.0625 7.96875 L 9.609375 16.40625 L 15.234375 16.40625 L 14.0625 7.96875\" stroke=\"black\" fill=\"transparent\"/></svg>"
      ],
      "text/plain": [
       "<IPython.core.display.SVG object>"
      ]
     },
     "metadata": {},
     "output_type": "display_data"
    }
   ],
   "source": [
    "from IPython.display import SVG, display\n",
    "\n",
    "svg_code = \"\"\"\n",
    "\n",
    "<svg xmlns=\"http://www.w3.org/2000/svg\" xmlns:xlink=\"http://www.w3.org/1999/xlink\" width=\"1050px\" height=\"1050px\" style=\"-ms-transform: rotate(360deg); -webkit-transform: rotate(360deg); transform: rotate(360deg);\" preserveAspectRatio=\"xMidYMid meet\" viewBox=\"0 0 24 24\"><path d=\"M 13.125 6.328125 L 15.703125 6.328125 L 17.8125 22.734375 L 15.703125 22.734375 L 15.234375 17.8125 L 15.0 17.8125 L 8.671875 17.8125 C 7.96875 20.390625 6.09375 22.734375 5.859375 22.734375 C 5.15625 22.734375 4.453125 22.734375 3.984375 22.734375 L 13.125 6.328125 M 14.0625 7.96875 L 9.609375 16.40625 L 15.234375 16.40625 L 14.0625 7.96875\" stroke=\"black\" fill=\"transparent\"/></svg>\n",
    "\"\"\"\n",
    "\n",
    "display(SVG(svg_code))"
   ]
  }
 ],
 "metadata": {
  "kernelspec": {
   "display_name": "base",
   "language": "python",
   "name": "python3"
  },
  "language_info": {
   "codemirror_mode": {
    "name": "ipython",
    "version": 3
   },
   "file_extension": ".py",
   "mimetype": "text/x-python",
   "name": "python",
   "nbconvert_exporter": "python",
   "pygments_lexer": "ipython3",
   "version": "3.11.5"
  }
 },
 "nbformat": 4,
 "nbformat_minor": 2
}
