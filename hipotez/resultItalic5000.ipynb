{
 "cells": [
  {
   "cell_type": "code",
   "execution_count": 2,
   "metadata": {},
   "outputs": [
    {
     "data": {
      "image/svg+xml": [
       "<svg xmlns=\"http://www.w3.org/2000/svg\" xmlns:xlink=\"http://www.w3.org/1999/xlink\" width=\"850px\" height=\"850px\" style=\"-ms-transform: rotate(360deg); -webkit-transform: rotate(360deg); transform: rotate(360deg);\" preserveAspectRatio=\"xMidYMid meet\" viewBox=\"0 0 24 24\"><path d=\"M 13.125 6.328125 L 15.9375 6.328125 L 17.109375 22.5 L 17.109375 22.734375 L 15.234375 22.734375 L 15.0 18.28125 L 8.671875 18.28125 L 6.328125 22.734375 L 4.453125 22.734375 L 4.453125 22.5 L 13.125 6.328125 M 14.296875 7.96875 L 9.609375 16.640625 L 14.765625 16.640625 L 14.296875 7.96875 L 14.296875 7.96875\" stroke=\"black\" fill=\"transparent\"/></svg>"
      ],
      "text/plain": [
       "<IPython.core.display.SVG object>"
      ]
     },
     "metadata": {},
     "output_type": "display_data"
    }
   ],
   "source": [
    "from IPython.display import SVG, display\n",
    "\n",
    "svg_code = \"\"\"\n",
    "\n",
    "<svg xmlns=\"http://www.w3.org/2000/svg\" xmlns:xlink=\"http://www.w3.org/1999/xlink\" width=\"850px\" height=\"850px\" style=\"-ms-transform: rotate(360deg); -webkit-transform: rotate(360deg); transform: rotate(360deg);\" preserveAspectRatio=\"xMidYMid meet\" viewBox=\"0 0 24 24\"><path d=\"M 13.125 6.328125 L 15.9375 6.328125 L 17.109375 22.5 L 17.109375 22.734375 L 15.234375 22.734375 L 15.0 18.28125 L 8.671875 18.28125 L 6.328125 22.734375 L 4.453125 22.734375 L 4.453125 22.5 L 13.125 6.328125 M 14.296875 7.96875 L 9.609375 16.640625 L 14.765625 16.640625 L 14.296875 7.96875 L 14.296875 7.96875\" stroke=\"black\" fill=\"transparent\"/></svg>\n",
    "\"\"\"\n",
    "\n",
    "display(SVG(svg_code))"
   ]
  },
  {
   "cell_type": "code",
   "execution_count": 4,
   "metadata": {},
   "outputs": [
    {
     "data": {
      "image/svg+xml": [
       "<svg xmlns=\"http://www.w3.org/2000/svg\" xmlns:xlink=\"http://www.w3.org/1999/xlink\" width=\"850px\" height=\"850px\" style=\"-ms-transform: rotate(360deg); -webkit-transform: rotate(360deg); transform: rotate(360deg);\" preserveAspectRatio=\"xMidYMid meet\" viewBox=\"0 0 24 24\"><path d=\"M 13.125 6.328125 L 15.703125 6.328125 L 17.8125 22.734375 L 15.703125 22.734375 L 15.234375 18.28125 L 15.0 18.28125 L 8.90625 18.28125 C 8.203125 19.921875 7.03125 21.5625 6.09375 22.734375 C 5.15625 22.734375 3.984375 22.734375 3.984375 22.734375 L 13.125 6.328125 M 14.0625 7.96875 C 12.1875 10.546875 10.3125 16.640625 9.84375 16.640625 L 14.53125 16.640625 C 14.53125 14.765625 14.53125 10.546875 14.0625 7.96875\" stroke=\"black\" fill=\"transparent\"/></svg>"
      ],
      "text/plain": [
       "<IPython.core.display.SVG object>"
      ]
     },
     "metadata": {},
     "output_type": "display_data"
    }
   ],
   "source": [
    "from IPython.display import SVG, display\n",
    "\n",
    "svg_code = \"\"\"\n",
    "\n",
    "<svg xmlns=\"http://www.w3.org/2000/svg\" xmlns:xlink=\"http://www.w3.org/1999/xlink\" width=\"850px\" height=\"850px\" style=\"-ms-transform: rotate(360deg); -webkit-transform: rotate(360deg); transform: rotate(360deg);\" preserveAspectRatio=\"xMidYMid meet\" viewBox=\"0 0 24 24\"><path d=\"M 13.125 6.328125 L 15.703125 6.328125 L 17.8125 22.734375 L 15.703125 22.734375 L 15.234375 18.28125 L 15.0 18.28125 L 8.90625 18.28125 C 8.203125 19.921875 7.03125 21.5625 6.09375 22.734375 C 5.15625 22.734375 3.984375 22.734375 3.984375 22.734375 L 13.125 6.328125 M 14.0625 7.96875 C 12.1875 10.546875 10.3125 16.640625 9.84375 16.640625 L 14.53125 16.640625 C 14.53125 14.765625 14.53125 10.546875 14.0625 7.96875\"  stroke=\"black\" fill=\"transparent\"/></svg>\n",
    "\"\"\"\n",
    "\n",
    "display(SVG(svg_code))"
   ]
  }
 ],
 "metadata": {
  "kernelspec": {
   "display_name": "base",
   "language": "python",
   "name": "python3"
  },
  "language_info": {
   "codemirror_mode": {
    "name": "ipython",
    "version": 3
   },
   "file_extension": ".py",
   "mimetype": "text/x-python",
   "name": "python",
   "nbconvert_exporter": "python",
   "pygments_lexer": "ipython3",
   "version": "3.11.5"
  }
 },
 "nbformat": 4,
 "nbformat_minor": 2
}
