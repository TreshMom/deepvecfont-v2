{
 "cells": [
  {
   "cell_type": "markdown",
   "metadata": {},
   "source": [
    "Работа с .npy форматом, загрузка "
   ]
  },
  {
   "cell_type": "code",
   "execution_count": 30,
   "metadata": {},
   "outputs": [
    {
     "name": "stdout",
     "output_type": "stream",
     "text": [
      "Namespace(model_name='main_model', language='eng', bottleneck_bits=512, char_num=52, ref_nshot=4, batch_size=64, batch_size_val=8, img_size=64, max_seq_len=51, dim_seq=12, dim_seq_short=9, hidden_size=512, dim_seq_latent=512, ngf=16, n_aux_pts=6, random_index='00', name_ckpt='600_192921.ckpt', init_epoch=0, n_epochs=800, n_samples=20, lr=0.0002, ref_char_ids='0,1,26,27', mode='train', multi_gpu=False, name_exp='dvf', data_root='./data/vecfont_dataset/', freq_ckpt=50, freq_sample=500, freq_log=50, freq_val=500, beta1=0.9, beta2=0.999, eps=1e-08, weight_decay=0.0, tboard=True, kl_beta=0.01, loss_w_pt_c=0.01, loss_w_l1=10.0, loss_w_cmd=1.0, loss_w_args=1.0, loss_w_aux=0.01, loss_w_smt=10.0)\n"
     ]
    }
   ],
   "source": [
    "!python3 test.py"
   ]
  },
  {
   "cell_type": "code",
   "execution_count": 7,
   "metadata": {},
   "outputs": [
    {
     "name": "stdout",
     "output_type": "stream",
     "text": [
      "Finished loading train paths, number: 1\n",
      "Key: class, Shape: torch.Size([1, 52, 1])\n",
      "Key: seq_len, Shape: torch.Size([1, 52, 1])\n",
      "Key: sequence, Shape: torch.Size([1, 52, 51, 12])\n",
      "Key: pts_aux, Shape: torch.Size([1, 52, 51, 6])\n",
      "Key: rendered, Shape: torch.Size([1, 52, 64, 64])\n"
     ]
    }
   ],
   "source": [
    "from dataloader import SVGDataset\n",
    "import torchvision.transforms as T\n",
    "import torch.utils.data as data\n",
    "\n",
    "def set_range(X):\n",
    "    return 1. - X\n",
    "\n",
    "SetRange = T.Lambda(set_range)  # convert [0, 1] -> [0, 1]\n",
    "transform = T.Compose([SetRange])\n",
    "dataset = SVGDataset(\"root\", 64, 'eng', 52, 51, 12, transform, 'train')\n",
    "\n",
    "class_data = dataset[0]['seq_len'] # чтобы обратиться по ключу надо взять 0 индекс\n",
    "\n",
    "dataloader = data.DataLoader(dataset, 1, shuffle= 'train', num_workers=0) # торчовская функция \n",
    "\n",
    "for idx, data in enumerate(dataloader):\n",
    "    for key, value in data.items():\n",
    "        print(f\"Key: {key}, Shape: {value.shape}\")\n",
    "                "
   ]
  },
  {
   "cell_type": "code",
   "execution_count": 5,
   "metadata": {},
   "outputs": [
    {
     "name": "stdout",
     "output_type": "stream",
     "text": [
      "torch.Size([2, 3, 1])\n"
     ]
    }
   ],
   "source": [
    "import torch\n",
    "tensor = torch.zeros(2, 3, 4)\n",
    "com = tensor[:,:,:1]\n",
    "print(com.shape)"
   ]
  },
  {
   "cell_type": "code",
   "execution_count": null,
   "metadata": {},
   "outputs": [],
   "source": [
    "import torch\n",
    "\n",
    "tensor = torch.zeros()"
   ]
  },
  {
   "cell_type": "code",
   "execution_count": null,
   "metadata": {},
   "outputs": [],
   "source": []
  }
 ],
 "metadata": {
  "kernelspec": {
   "display_name": "Python 3",
   "language": "python",
   "name": "python3"
  },
  "language_info": {
   "codemirror_mode": {
    "name": "ipython",
    "version": 3
   },
   "file_extension": ".py",
   "mimetype": "text/x-python",
   "name": "python",
   "nbconvert_exporter": "python",
   "pygments_lexer": "ipython3",
   "version": "3.9.6"
  }
 },
 "nbformat": 4,
 "nbformat_minor": 2
}
